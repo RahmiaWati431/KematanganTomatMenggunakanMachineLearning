{
  "nbformat": 4,
  "nbformat_minor": 0,
  "metadata": {
    "colab": {
      "provenance": [],
      "authorship_tag": "ABX9TyPFOyM+m0suJgBmt6IcyH7v",
      "include_colab_link": true
    },
    "kernelspec": {
      "name": "python3",
      "display_name": "Python 3"
    },
    "language_info": {
      "name": "python"
    }
  },
  "cells": [
    {
      "cell_type": "markdown",
      "metadata": {
        "id": "view-in-github",
        "colab_type": "text"
      },
      "source": [
        "<a href=\"https://colab.research.google.com/github/RahmiaWati431/KematanganTomatMenggunakanMachineLearning/blob/main/UjiSVM60_40.ipynb\" target=\"_parent\"><img src=\"https://colab.research.google.com/assets/colab-badge.svg\" alt=\"Open In Colab\"/></a>"
      ]
    },
    {
      "cell_type": "code",
      "source": [
        "from google.colab import drive\n",
        "drive.mount('/content/drive')"
      ],
      "metadata": {
        "colab": {
          "base_uri": "https://localhost:8080/"
        },
        "id": "JXLpKwBZdUSt",
        "outputId": "19331f79-3498-4a35-9efd-d0912a3c50fb"
      },
      "execution_count": null,
      "outputs": [
        {
          "output_type": "stream",
          "name": "stdout",
          "text": [
            "Mounted at /content/drive\n"
          ]
        }
      ]
    },
    {
      "cell_type": "code",
      "source": [
        "from IPython.display import display\n",
        "import pandas as pd\n",
        "from statsmodels.stats.contingency_tables import mcnemar\n",
        "\n",
        "# --- Load Data ---\n",
        "crop_df = pd.read_csv('/content/drive/MyDrive/Penelitian/Skripsi/Crop/60.40/Prediksi/svm/Prediksi_SVM_Crop_60:40.csv')\n",
        "nocrop_df = pd.read_csv('/content/drive/MyDrive/Penelitian/Skripsi/TanpaCrop/60.40/Prediksi/svm/Prediksi_SVM_TanpaCrop_60:40.csv')\n",
        "\n",
        "# --- Pastikan sejajar berdasarkan Filename ---\n",
        "crop_df.sort_values(by='Filename', inplace=True)\n",
        "nocrop_df.sort_values(by='Filename', inplace=True)\n",
        "crop_df.reset_index(drop=True, inplace=True)\n",
        "nocrop_df.reset_index(drop=True, inplace=True)\n",
        "\n",
        "# --- Pastikan label asli sama ---\n",
        "assert all(crop_df['Actual'] == nocrop_df['Actual']), \"⚠️ Ground truth tidak cocok!\"\n",
        "\n",
        "# --- Buat tabel evaluasi lengkap ---\n",
        "evaluasi_df = pd.DataFrame({\n",
        "    'Label Asli': crop_df['Actual'],\n",
        "    'SVM Crop Prediksi': crop_df['Predicted_SVM_Crop'],\n",
        "    'SVM TanpaCrop Prediksi': nocrop_df['Predicted_SVM_Crop'],\n",
        "})\n",
        "\n",
        "# Tambahkan kolom kebenaran prediksi\n",
        "evaluasi_df['Crop Benar?'] = evaluasi_df['Label Asli'] == evaluasi_df['SVM Crop Prediksi']\n",
        "evaluasi_df['TanpaCrop Benar?'] = evaluasi_df['Label Asli'] == evaluasi_df['SVM TanpaCrop Prediksi']\n",
        "\n",
        "# --- Hitung nilai a, b, c, d ---\n",
        "a = sum((evaluasi_df['Crop Benar?']) & (evaluasi_df['TanpaCrop Benar?']))   # Sama-sama benar\n",
        "b = sum((evaluasi_df['Crop Benar?']) & (~evaluasi_df['TanpaCrop Benar?']))  # Crop benar, TanpaCrop salah\n",
        "c = sum((~evaluasi_df['Crop Benar?']) & (evaluasi_df['TanpaCrop Benar?']))  # Crop salah, TanpaCrop benar\n",
        "d = sum((~evaluasi_df['Crop Benar?']) & (~evaluasi_df['TanpaCrop Benar?'])) # Sama-sama salah\n",
        "\n",
        "# --- Cetak tabel kontingensi lengkap ---\n",
        "table_full = [[a, b],\n",
        "              [c, d]]\n",
        "\n",
        "print(\"\\n📋 Tabel Kontingensi McNemar (Lengkap a,b,c,d):\")\n",
        "print(pd.DataFrame(table_full,\n",
        "                   index=['Crop Benar', 'Crop Salah'],\n",
        "                   columns=['TanpaCrop Benar', 'TanpaCrop Salah']))\n",
        "\n",
        "# --- Simpan tabel evaluasi ke Excel ---\n",
        "output_excel = '/content/drive/MyDrive/Penelitian/Skripsi/CropvsNoCrop/60.40/svm/Evaluasi_McNemar_SVM_Crop_vs_TanpaCrop_60:40.xlsx'\n",
        "evaluasi_df.to_excel(output_excel, index=False)\n",
        "print(f\"\\n✅ Tabel evaluasi disimpan ke: {output_excel}\")\n",
        "\n",
        "# --- Uji McNemar hanya pakai b & c ---\n",
        "table_bc = [[0, b],\n",
        "            [c, 0]]\n",
        "\n",
        "result = mcnemar(table_bc, exact=True)\n",
        "\n",
        "print(f\"\\n📊 Hasil Uji McNemar:\")\n",
        "print(f\"Statistik : {result.statistic}\")\n",
        "print(f\"p-value   : {result.pvalue:.4f}\")\n",
        "\n",
        "# Interpretasi\n",
        "alpha = 0.05\n",
        "if result.pvalue < alpha:\n",
        "    print(\"💡 Kesimpulan: Terdapat perbedaan signifikan antara model SVM Crop dan SVM TanpaCrop (p < 0.05)\")\n",
        "else:\n",
        "    print(\"💡 Kesimpulan: Tidak terdapat perbedaan signifikan antara model SVM Crop dan SVM TanpaCrop (p >= 0.05)\")\n"
      ],
      "metadata": {
        "colab": {
          "base_uri": "https://localhost:8080/"
        },
        "id": "mGjbPQfdAj_7",
        "outputId": "85e6ad8a-8c4d-467c-ead4-4b33d4e9a518"
      },
      "execution_count": null,
      "outputs": [
        {
          "output_type": "stream",
          "name": "stdout",
          "text": [
            "\n",
            "📋 Tabel Kontingensi McNemar (Lengkap a,b,c,d):\n",
            "            TanpaCrop Benar  TanpaCrop Salah\n",
            "Crop Benar               72               10\n",
            "Crop Salah                2                0\n",
            "\n",
            "✅ Tabel evaluasi disimpan ke: /content/drive/MyDrive/Penelitian/Skripsi/CropvsNoCrop/60.40/svm/Evaluasi_McNemar_SVM_Crop_vs_TanpaCrop_60:40.xlsx\n",
            "\n",
            "📊 Hasil Uji McNemar:\n",
            "Statistik : 2.0\n",
            "p-value   : 0.0386\n",
            "💡 Kesimpulan: Terdapat perbedaan signifikan antara model SVM Crop dan SVM TanpaCrop (p < 0.05)\n"
          ]
        }
      ]
    },
    {
      "cell_type": "markdown",
      "source": [
        "# New Section"
      ],
      "metadata": {
        "id": "d271RXfFbVaO"
      }
    }
  ]
}