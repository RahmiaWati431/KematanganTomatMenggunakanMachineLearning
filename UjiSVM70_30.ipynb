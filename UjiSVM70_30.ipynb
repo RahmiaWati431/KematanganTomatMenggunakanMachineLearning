{
  "nbformat": 4,
  "nbformat_minor": 0,
  "metadata": {
    "colab": {
      "provenance": [],
      "authorship_tag": "ABX9TyOdNVaHn84RcoGLlbVBeGPE",
      "include_colab_link": true
    },
    "kernelspec": {
      "name": "python3",
      "display_name": "Python 3"
    },
    "language_info": {
      "name": "python"
    }
  },
  "cells": [
    {
      "cell_type": "markdown",
      "metadata": {
        "id": "view-in-github",
        "colab_type": "text"
      },
      "source": [
        "<a href=\"https://colab.research.google.com/github/RahmiaWati431/KematanganTomatMenggunakanMachineLearning/blob/main/UjiSVM70_30.ipynb\" target=\"_parent\"><img src=\"https://colab.research.google.com/assets/colab-badge.svg\" alt=\"Open In Colab\"/></a>"
      ]
    },
    {
      "cell_type": "code",
      "source": [
        "from google.colab import drive\n",
        "drive.mount('/content/drive')"
      ],
      "metadata": {
        "colab": {
          "base_uri": "https://localhost:8080/"
        },
        "id": "JXLpKwBZdUSt",
        "outputId": "43ef621b-235b-46c1-e484-4932401c1ab0"
      },
      "execution_count": null,
      "outputs": [
        {
          "output_type": "stream",
          "name": "stdout",
          "text": [
            "Mounted at /content/drive\n"
          ]
        }
      ]
    },
    {
      "cell_type": "code",
      "source": [
        "from IPython.display import display\n",
        "import pandas as pd\n",
        "from statsmodels.stats.contingency_tables import mcnemar\n",
        "\n",
        "# --- Load Data ---\n",
        "crop_df = pd.read_csv('/content/drive/MyDrive/Penelitian/Skripsi/Crop/70.30/Prediksi/svm/Prediksi_SVM_Crop_70:30.csv')\n",
        "nocrop_df = pd.read_csv('/content/drive/MyDrive/Penelitian/Skripsi/TanpaCrop/70.30/Prediksi/svm/Prediksi_SVM_TanpaCrop_70:30.csv')\n",
        "\n",
        "# --- Pastikan sejajar berdasarkan Filename ---\n",
        "crop_df.sort_values(by='Filename', inplace=True)\n",
        "nocrop_df.sort_values(by='Filename', inplace=True)\n",
        "crop_df.reset_index(drop=True, inplace=True)\n",
        "nocrop_df.reset_index(drop=True, inplace=True)\n",
        "\n",
        "# --- Pastikan label asli sama ---\n",
        "assert all(crop_df['Actual'] == nocrop_df['Actual']), \"⚠️ Ground truth tidak cocok!\"\n",
        "\n",
        "# --- Buat tabel evaluasi lengkap ---\n",
        "evaluasi_df = pd.DataFrame({\n",
        "    'Label Asli': crop_df['Actual'],\n",
        "    'SVM Crop Prediksi': crop_df['Predicted_SVM_Crop'],\n",
        "    'SVM TanpaCrop Prediksi': nocrop_df['Predicted_SVM_Crop'],\n",
        "})\n",
        "\n",
        "# Tambahkan kolom kebenaran prediksi\n",
        "evaluasi_df['Crop Benar?'] = evaluasi_df['Label Asli'] == evaluasi_df['SVM Crop Prediksi']\n",
        "evaluasi_df['TanpaCrop Benar?'] = evaluasi_df['Label Asli'] == evaluasi_df['SVM TanpaCrop Prediksi']\n",
        "\n",
        "# --- Hitung nilai a, b, c, d ---\n",
        "a = sum((evaluasi_df['Crop Benar?']) & (evaluasi_df['TanpaCrop Benar?']))   # Sama-sama benar\n",
        "b = sum((evaluasi_df['Crop Benar?']) & (~evaluasi_df['TanpaCrop Benar?']))  # Crop benar, TanpaCrop salah\n",
        "c = sum((~evaluasi_df['Crop Benar?']) & (evaluasi_df['TanpaCrop Benar?']))  # Crop salah, TanpaCrop benar\n",
        "d = sum((~evaluasi_df['Crop Benar?']) & (~evaluasi_df['TanpaCrop Benar?'])) # Sama-sama salah\n",
        "\n",
        "# --- Cetak tabel kontingensi lengkap ---\n",
        "table_full = [[a, b],\n",
        "              [c, d]]\n",
        "\n",
        "print(\"\\n📋 Tabel Kontingensi McNemar (Lengkap a,b,c,d):\")\n",
        "print(pd.DataFrame(table_full,\n",
        "                   index=['Crop Benar', 'Crop Salah'],\n",
        "                   columns=['TanpaCrop Benar', 'TanpaCrop Salah']))\n",
        "\n",
        "# --- Simpan tabel evaluasi ke Excel ---\n",
        "output_excel = '/content/drive/MyDrive/Penelitian/Skripsi/CropvsNoCrop/70.30/svm/Evaluasi_McNemar_SVM_Crop_vs_TanpaCrop_70:30.xlsx'\n",
        "evaluasi_df.to_excel(output_excel, index=False)\n",
        "print(f\"\\n✅ Tabel evaluasi disimpan ke: {output_excel}\")\n",
        "\n",
        "# --- Uji McNemar hanya pakai b & c ---\n",
        "table_bc = [[0, b],\n",
        "            [c, 0]]\n",
        "\n",
        "result = mcnemar(table_bc, exact=True)\n",
        "\n",
        "print(f\"\\n📊 Hasil Uji McNemar:\")\n",
        "print(f\"Statistik : {result.statistic}\")\n",
        "print(f\"p-value   : {result.pvalue:.4f}\")\n",
        "\n",
        "# Interpretasi\n",
        "alpha = 0.05\n",
        "if result.pvalue < alpha:\n",
        "    print(\"💡 Kesimpulan: Terdapat perbedaan signifikan antara model SVM Crop dan SVM TanpaCrop (p < 0.05)\")\n",
        "else:\n",
        "    print(\"💡 Kesimpulan: Tidak terdapat perbedaan signifikan antara model SVM Crop dan SVM TanpaCrop (p >= 0.05)\")\n"
      ],
      "metadata": {
        "colab": {
          "base_uri": "https://localhost:8080/"
        },
        "id": "mGjbPQfdAj_7",
        "outputId": "9e031482-3200-41ba-d0c8-ed744463967f"
      },
      "execution_count": null,
      "outputs": [
        {
          "output_type": "stream",
          "name": "stdout",
          "text": [
            "\n",
            "📋 Tabel Kontingensi McNemar (Lengkap a,b,c,d):\n",
            "            TanpaCrop Benar  TanpaCrop Salah\n",
            "Crop Benar               56                6\n",
            "Crop Salah                1                0\n",
            "\n",
            "✅ Tabel evaluasi disimpan ke: /content/drive/MyDrive/Penelitian/Skripsi/CropvsNoCrop/70.30/svm/Evaluasi_McNemar_SVM_Crop_vs_TanpaCrop_70:30.xlsx\n",
            "\n",
            "📊 Hasil Uji McNemar:\n",
            "Statistik : 1.0\n",
            "p-value   : 0.1250\n",
            "💡 Kesimpulan: Tidak terdapat perbedaan signifikan antara model SVM Crop dan SVM TanpaCrop (p >= 0.05)\n"
          ]
        }
      ]
    },
    {
      "cell_type": "markdown",
      "source": [
        "# New Section"
      ],
      "metadata": {
        "id": "d271RXfFbVaO"
      }
    }
  ]
}