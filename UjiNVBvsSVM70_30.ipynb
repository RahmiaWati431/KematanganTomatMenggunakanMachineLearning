{
  "nbformat": 4,
  "nbformat_minor": 0,
  "metadata": {
    "colab": {
      "provenance": [],
      "authorship_tag": "ABX9TyN7geQoYiitltZrWiDsnc7G",
      "include_colab_link": true
    },
    "kernelspec": {
      "name": "python3",
      "display_name": "Python 3"
    },
    "language_info": {
      "name": "python"
    }
  },
  "cells": [
    {
      "cell_type": "markdown",
      "metadata": {
        "id": "view-in-github",
        "colab_type": "text"
      },
      "source": [
        "<a href=\"https://colab.research.google.com/github/RahmiaWati431/KematanganTomatMenggunakanMachineLearning/blob/main/UjiNVBvsSVM70_30.ipynb\" target=\"_parent\"><img src=\"https://colab.research.google.com/assets/colab-badge.svg\" alt=\"Open In Colab\"/></a>"
      ]
    },
    {
      "cell_type": "code",
      "source": [
        "from google.colab import drive\n",
        "drive.mount('/content/drive')"
      ],
      "metadata": {
        "colab": {
          "base_uri": "https://localhost:8080/"
        },
        "id": "JXLpKwBZdUSt",
        "outputId": "c1ef997b-6252-40fe-d2e9-3af8b26da108"
      },
      "execution_count": null,
      "outputs": [
        {
          "output_type": "stream",
          "name": "stdout",
          "text": [
            "Mounted at /content/drive\n"
          ]
        }
      ]
    },
    {
      "cell_type": "code",
      "source": [
        "from IPython.display import display\n",
        "import pandas as pd\n",
        "from statsmodels.stats.contingency_tables import mcnemar\n",
        "\n",
        "# --- Load Data ---\n",
        "svm_crop_df = pd.read_csv('/content/drive/MyDrive/Penelitian/Berkas/Crop/70:30/svm/mcnemar/Prediksi_SVM_Crop_70:30.csv')\n",
        "nb_crop_df = pd.read_csv('/content/drive/MyDrive/Penelitian/Berkas/Crop/70:30/nvb/mcnemar/Prediksi_NB_Crop_70:30.csv')\n",
        "\n",
        "# --- Pastikan urutannya sama ---\n",
        "svm_crop_df.sort_values(by='Filename', inplace=True)\n",
        "nb_crop_df.sort_values(by='Filename', inplace=True)\n",
        "svm_crop_df.reset_index(drop=True, inplace=True)\n",
        "nb_crop_df.reset_index(drop=True, inplace=True)\n",
        "\n",
        "# --- Pastikan label asli sama ---\n",
        "assert all(svm_crop_df['Actual'] == nb_crop_df['Actual']), \"⚠️ Ground truth tidak cocok!\"\n",
        "\n",
        "# --- Buat tabel evaluasi ---\n",
        "evaluasi_df = pd.DataFrame({\n",
        "    'Label Asli': svm_crop_df['Actual'],\n",
        "    'SVM Crop Prediksi': svm_crop_df['Predicted_SVM_Crop'],\n",
        "    'NB Crop Prediksi': nb_crop_df['Predicted_NB_Crop'],\n",
        "})\n",
        "\n",
        "# Tambahkan kolom kebenaran prediksi\n",
        "evaluasi_df['SVM Benar?'] = evaluasi_df['Label Asli'] == evaluasi_df['SVM Crop Prediksi']\n",
        "evaluasi_df['NB Benar?']  = evaluasi_df['Label Asli'] == evaluasi_df['NB Crop Prediksi']\n",
        "\n",
        "# --- Hitung nilai a, b, c, d ---\n",
        "a = sum((evaluasi_df['SVM Benar?']) & (evaluasi_df['NB Benar?']))   # Sama-sama benar\n",
        "b = sum((evaluasi_df['SVM Benar?']) & (~evaluasi_df['NB Benar?']))  # SVM benar, NB salah\n",
        "c = sum((~evaluasi_df['SVM Benar?']) & (evaluasi_df['NB Benar?']))  # SVM salah, NB benar\n",
        "d = sum((~evaluasi_df['SVM Benar?']) & (~evaluasi_df['NB Benar?'])) # Sama-sama salah\n",
        "\n",
        "# --- Cetak tabel kontingensi lengkap ---\n",
        "table_full = [[a, b],\n",
        "              [c, d]]\n",
        "\n",
        "print(\"\\n📋 Tabel Kontingensi McNemar (Lengkap a,b,c,d):\")\n",
        "print(pd.DataFrame(table_full,\n",
        "                   index=['SVM Benar', 'SVM Salah'],\n",
        "                   columns=['NB Benar', 'NB Salah']))\n",
        "\n",
        "# --- Simpan tabel evaluasi ke Excel ---\n",
        "output_excel = '/content/drive/MyDrive/Penelitian/Berkas/nvbvssvm/Evaluasi_McNemar_SVM_Crop_vs_NB_Crop_70-30.xlsx'\n",
        "evaluasi_df.to_excel(output_excel, index=False)\n",
        "print(f\"\\n✅ Tabel evaluasi disimpan ke: {output_excel}\")\n",
        "\n",
        "# --- Uji McNemar pakai b & c saja ---\n",
        "table_bc = [[0, b],\n",
        "            [c, 0]]\n",
        "\n",
        "result = mcnemar(table_bc, exact=True)\n",
        "\n",
        "print(f\"\\n📊 Hasil Uji McNemar:\")\n",
        "print(f\"Statistik : {result.statistic}\")\n",
        "print(f\"p-value   : {result.pvalue:.4f}\")\n",
        "\n",
        "# Interpretasi\n",
        "alpha = 0.05\n",
        "if result.pvalue < alpha:\n",
        "    print(\"💡 Kesimpulan: Terdapat perbedaan signifikan antara model SVM Crop dan NB Crop (p < 0.05)\")\n",
        "else:\n",
        "    print(\"💡 Kesimpulan: Tidak terdapat perbedaan signifikan antara model SVM Crop dan NB Crop (p >= 0.05)\")"
      ],
      "metadata": {
        "colab": {
          "base_uri": "https://localhost:8080/"
        },
        "id": "mGjbPQfdAj_7",
        "outputId": "0f41c820-a93c-4a9e-9b29-57f948bbf8d2"
      },
      "execution_count": null,
      "outputs": [
        {
          "output_type": "stream",
          "name": "stdout",
          "text": [
            "\n",
            "📋 Tabel Kontingensi McNemar (Lengkap a,b,c,d):\n",
            "           NB Benar  NB Salah\n",
            "SVM Benar        58         4\n",
            "SVM Salah         0         1\n",
            "\n",
            "✅ Tabel evaluasi disimpan ke: /content/drive/MyDrive/Penelitian/Berkas/nvbvssvm/Evaluasi_McNemar_SVM_Crop_vs_NB_Crop_70-30.xlsx\n",
            "\n",
            "📊 Hasil Uji McNemar:\n",
            "Statistik : 0.0\n",
            "p-value   : 0.1250\n",
            "💡 Kesimpulan: Tidak terdapat perbedaan signifikan antara model SVM Crop dan NB Crop (p >= 0.05)\n"
          ]
        }
      ]
    },
    {
      "cell_type": "markdown",
      "source": [
        "# New Section"
      ],
      "metadata": {
        "id": "d271RXfFbVaO"
      }
    }
  ]
}